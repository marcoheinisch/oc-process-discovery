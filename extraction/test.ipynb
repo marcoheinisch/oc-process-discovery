{
 "cells": [
  {
   "cell_type": "code",
   "execution_count": null,
   "metadata": {},
   "outputs": [],
   "source": [
    "import pm4py"
   ]
  },
  {
   "cell_type": "code",
   "execution_count": null,
   "metadata": {},
   "outputs": [],
   "source": [
    "path = \"log.jsonocel\"\n",
    "ocel = pm4py.read_ocel(path)\n",
    "ocdfg = pm4py.discover_ocdfg(ocel)\n",
    "# views the model with the performance annotation\n",
    "pm4py.view_ocdfg(ocdfg, format=\"png\", annotation=\"performance\", performance_aggregation=\"median\")\n"
   ]
  },
  {
   "cell_type": "code",
   "execution_count": null,
   "metadata": {},
   "outputs": [],
   "source": [
    "path = \"tmp5hghlgef.xmlocel\"\n",
    "ocel = pm4py.read_ocel(path)\n",
    "ocel"
   ]
  },
  {
   "cell_type": "code",
   "execution_count": null,
   "metadata": {},
   "outputs": [],
   "source": [
    "model = pm4py.discover_oc_petri_net(ocel)\n",
    "pm4py.view_ocpn(model, format=\"png\")"
   ]
  },
  {
   "cell_type": "code",
   "execution_count": null,
   "metadata": {},
   "outputs": [],
   "source": [
    "path = \"p2p-normal.jsonocel\"\n",
    "ocel = pm4py.read_ocel(path)\n",
    "ocdfg = pm4py.discover_ocdfg(ocel)\n",
    "# views the model with the performance annotation\n",
    "pm4py.view_ocdfg(ocdfg, format=\"png\", annotation=\"performance\", performance_aggregation=\"median\")\n"
   ]
  },
  {
   "cell_type": "code",
   "execution_count": null,
   "metadata": {},
   "outputs": [],
   "source": [
    "model = pm4py.discover_oc_petri_net(ocel)\n",
    "pm4py.view_ocpn(model, format=\"png\")"
   ]
  }
 ],
 "metadata": {
  "kernelspec": {
   "display_name": "Python 3.9.5 ('venv': venv)",
   "language": "python",
   "name": "python3"
  },
  "language_info": {
   "codemirror_mode": {
    "name": "ipython",
    "version": 3
   },
   "file_extension": ".py",
   "mimetype": "text/x-python",
   "name": "python",
   "nbconvert_exporter": "python",
   "pygments_lexer": "ipython3",
   "version": "3.9.5"
  },
  "orig_nbformat": 4,
  "vscode": {
   "interpreter": {
    "hash": "d8d962f2b57383ae3ed2130edc24832de95521f1d5060823bc3e7f53679bb286"
   }
  }
 },
 "nbformat": 4,
 "nbformat_minor": 2
}
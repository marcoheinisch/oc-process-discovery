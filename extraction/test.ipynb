{
 "cells": [
  {
   "cell_type": "code",
   "execution_count": null,
   "metadata": {},
   "outputs": [],
   "source": [
    "\"\"\"Provide Funktion for extraction of an jsonocel data from SAP tables dataframes.\"\"\"\n",
    "import pandas as pd\n",
    "\n",
    "VBTYP_DESCRIPTIONS = {\n",
    "    \"A\": \"Inquiry\",\n",
    "    \"B\": \"Quotation\", \n",
    "    \"C\": \"Order\", \n",
    "    \"Q\": \"WMS transfer order\", \n",
    "    \"R\": \"Goods movement\", \n",
    "    \"J\": \"Delivery\",\n",
    "    \"M\": \"Invoice\"\n",
    "    }    \n",
    "\n",
    "def add_event_timestamp_column(df, date_column=\"ERDAT\", time_column=\"ERZET\", replace_columns=True) -> pd.DataFrame:\n",
    "        \"\"\"Function to add a \"event_timestamp\" column from the SAP date and time fields.\"\"\"    \n",
    "        _df = df.copy()\n",
    "        # todo: check if the date and time fields are in the dataframe\n",
    "        _df[\"event_timestamp\"] = _df[date_column].astype(str) + _df[time_column].astype(str)\n",
    "        _df[\"event_timestamp\"] = pd.to_datetime(_df[\"event_timestamp\"], format=\"%Y%m%d%H%M%S\")\n",
    "        if replace_columns:\n",
    "            _df.drop([\"ERDAT\", \"ERZET\"], axis=1, inplace=True)\n",
    "        return _df\n",
    "    \n",
    "def add_event_activity_column(df, activity_column=\"VBTYP_N\", activity_value_prefix=\"Create \", replace_columns=True) -> pd.DataFrame:\n",
    "    \"\"\"Function to add a \"event_activity\" column.\"\"\"\n",
    "    _df = df.copy()\n",
    "    _df[activity_column] = _df[activity_column].str.replace('[^a-zA-Z0-9]', '')\n",
    "    _df[\"event_activity\"] = activity_value_prefix + _df[activity_column].map(VBTYP_DESCRIPTIONS).astype(str)\n",
    "    if replace_columns:\n",
    "        _df.drop([activity_column], axis=1, inplace=True)\n",
    "    return _df\n",
    "\n",
    "def add_event_id_column(df, event_id_column=\"event_id\") -> pd.DataFrame:\n",
    "    \"\"\"Function to add a \"event_id\" column.\"\"\"\n",
    "    _df = df.copy()\n",
    "    _df[event_id_column] = _df.index.astype(str)\n",
    "    return _df\n",
    "\n",
    "\n",
    "def get_tables():\n",
    "    \"\"\"Return dataframes of SAP tables.\"\"\"\n",
    "    import os\n",
    "\n",
    "    # load all dataframes stored in the current directory as pickle files\n",
    "    files = [f for f in os.listdir('.') if f.endswith('.pkl')]\n",
    "    tables = []\n",
    "    dfs = {}\n",
    "    for file  in files:\n",
    "        table = file.split(\".\")[0]\n",
    "        tables.append(table)\n",
    "        dfs[table] = pd.read_pickle(file)\n",
    "        \n",
    "    return dfs\n",
    "\n",
    "\n",
    "def extract_jsonocel_data():\n",
    "    \"\"\"Return jsonocel data from SAP tables dataframes.\"\"\"\n",
    "    import pandas as pd\n",
    "    tables = get_tables()\n",
    "    \n",
    "    # 1. Get all events creating a new document in VBFA\n",
    "    \n",
    "    vbfa = tables[\"VBFA\"]\n",
    "    vbfa = vbfa[['ERDAT', 'ERZET', 'VBELN', 'VBELV', 'VBTYP_N', 'VBTYP_V']] # todo: remove/move to constants\n",
    "    \n",
    "    vbfa = add_event_timestamp_column(vbfa)\n",
    "    vbfa = add_event_activity_column(vbfa, activity_column=\"VBTYP_N\", activity_value_prefix=\"Create \", replace_columns=False)\n",
    "    log_vbfa = vbfa\n",
    "    \n",
    "    # 2. Get all edge cases events with additional information from VBAK\n",
    "    \n",
    "    vbak = tables[\"VBAK\"]\n",
    "    vbak = vbak[['VBELN', 'ERDAT', 'ERZET']] # todo: remove/move to constants\n",
    "    vbak = add_event_timestamp_column(vbak)\n",
    "        # Stuff I dont understand but seems to work lol\n",
    "    vbfa_vbak = pd.merge(vbfa, vbak, left_on=\"VBELV\", right_on=\"VBELN\", how=\"inner\", suffixes=(\"_VBFA\", \"_VBAK\"))\n",
    "    vbfa_vbak.rename(columns={\"event_timestamp_VBAK\": \"event_timestamp\"}, inplace=True)\n",
    "    vbfa_vbak = add_event_activity_column(vbfa_vbak, activity_column=\"VBTYP_V\", activity_value_prefix=\"Create \", replace_columns=False)\n",
    "    log_vbak = vbfa_vbak\n",
    "    \n",
    "    # 3. Add relations between events from 2. (tbd)\n",
    "    \n",
    "    pass\n",
    "\n",
    "    # 4. Otional: Process changes made on documents, recorded in CDHDR and CDPOS\n",
    "    \n",
    "    pass \n",
    "\n",
    "    # 5. Generatre jsonocel\n",
    "    \n",
    "    log = log_vbfa #pd.concat([log_vbfa, log_vbak])\n",
    "    log = log.sort_values(\"event_timestamp\")\n",
    "    log = add_event_id_column(log)\n",
    "    \n",
    "    from pm4pymdl.objects.ocel.exporter import exporter as ocel_exporter\n",
    "    ocel_exporter.apply(log, \"log.jsonocel\")\n",
    "    "
   ]
  },
  {
   "cell_type": "code",
   "execution_count": null,
   "metadata": {},
   "outputs": [],
   "source": [
    "extract_jsonocel_data()"
   ]
  },
  {
   "cell_type": "code",
   "execution_count": null,
   "metadata": {},
   "outputs": [],
   "source": [
    "import pm4py\n",
    "\n",
    "\n",
    "path = \"p2p-normal.jsonocel\"\n",
    "ocel = pm4py.read_ocel(path)\n",
    "ocdfg = pm4py.discover_ocdfg(ocel)\n",
    "# views the model with the performance annotation\n",
    "pm4py.view_ocdfg(ocdfg, format=\"png\", annotation=\"performance\", performance_aggregation=\"median\")\n"
   ]
  },
  {
   "cell_type": "code",
   "execution_count": null,
   "metadata": {},
   "outputs": [],
   "source": [
    "model = pm4py.discover_oc_petri_net(ocel)\n",
    "pm4py.view_ocpn(model, format=\"png\")"
   ]
  },
  {
   "cell_type": "code",
   "execution_count": null,
   "metadata": {},
   "outputs": [],
   "source": [
    "import pm4py\n",
    "\n",
    "\n",
    "path = \"log.jsonocel\"\n",
    "ocel = pm4py.read_ocel(path)\n",
    "ocdfg = pm4py.discover_ocdfg(ocel)\n",
    "# views the model with the performance annotation\n",
    "pm4py.view_ocdfg(ocdfg, format=\"png\", annotation=\"performance\", performance_aggregation=\"median\")\n"
   ]
  },
  {
   "cell_type": "code",
   "execution_count": null,
   "metadata": {},
   "outputs": [],
   "source": [
    "model = pm4py.discover_oc_petri_net(ocel)\n",
    "pm4py.view_ocpn(model, format=\"png\")"
   ]
  }
 ],
 "metadata": {
  "kernelspec": {
   "display_name": "Python 3.9.12 ('base')",
   "language": "python",
   "name": "python3"
  },
  "language_info": {
   "codemirror_mode": {
    "name": "ipython",
    "version": 3
   },
   "file_extension": ".py",
   "mimetype": "text/x-python",
   "name": "python",
   "nbconvert_exporter": "python",
   "pygments_lexer": "ipython3",
   "version": "3.9.12"
  },
  "orig_nbformat": 4,
  "vscode": {
   "interpreter": {
    "hash": "a2d661c17a82f664ea709af203a48067103953f0dcf8c132cccbaebe57a42279"
   }
  }
 },
 "nbformat": 4,
 "nbformat_minor": 2
}
